{
 "cells": [
  {
   "cell_type": "markdown",
   "id": "5352d953",
   "metadata": {},
   "source": [
    "# Importar Librerías"
   ]
  },
  {
   "cell_type": "code",
   "execution_count": 1,
   "id": "571a7dad",
   "metadata": {},
   "outputs": [],
   "source": [
    "import sqlalchemy\n",
    "from sqlalchemy import create_engine\n",
    "from sqlalchemy import Table, Column, Integer, String, MetaData, ForeignKey\n",
    "from sqlalchemy import inspect"
   ]
  },
  {
   "cell_type": "markdown",
   "id": "a2e8b25c",
   "metadata": {},
   "source": [
    "# Crear Base de Datos"
   ]
  },
  {
   "cell_type": "code",
   "execution_count": 2,
   "id": "47679e5c",
   "metadata": {},
   "outputs": [],
   "source": [
    "import sqlite3\n",
    "conexion = sqlite3.connect(\"chinook_multidimensional.db\")"
   ]
  },
  {
   "cell_type": "markdown",
   "id": "bffbbe49",
   "metadata": {},
   "source": [
    "# Crear Dimensiones"
   ]
  },
  {
   "cell_type": "code",
   "execution_count": 3,
   "id": "2efdef5d",
   "metadata": {},
   "outputs": [
    {
     "name": "stdout",
     "output_type": "stream",
     "text": [
      "Dimensión dim_albums creada exitosamente.\n"
     ]
    }
   ],
   "source": [
    "# DIMENSIÓN dim_albums\n",
    "try:\n",
    "    conexion.execute(\"\"\"CREATE TABLE dim_albums (\n",
    "    AlbumId  INTEGER        PRIMARY KEY AUTOINCREMENT NOT NULL,\n",
    "    Title    NVARCHAR (160) NOT NULL\n",
    "    )\"\"\")\n",
    "    print (\"Dimensión dim_albums creada exitosamente.\")\n",
    "except sqlite3.OperationalError:\n",
    "    print (\"Dimensión dim_albums ya existe en la base de datos.\")"
   ]
  },
  {
   "cell_type": "code",
   "execution_count": 4,
   "id": "6a582f95",
   "metadata": {},
   "outputs": [
    {
     "name": "stdout",
     "output_type": "stream",
     "text": [
      "Dimensión dim_artists creada exitosamente.\n"
     ]
    }
   ],
   "source": [
    "# DIMENSIÓN dim_artists\n",
    "try:\n",
    "    conexion.execute(\"\"\"CREATE TABLE dim_artists (\n",
    "    ArtistId INTEGER        PRIMARY KEY AUTOINCREMENT NOT NULL,\n",
    "    Name     NVARCHAR (120)\n",
    "    )\"\"\")\n",
    "    print (\"Dimensión dim_artists creada exitosamente.\")\n",
    "except sqlite3.OperationalError:\n",
    "    print (\"Dimensión dim_artists ya existe en la base de datos.\")"
   ]
  },
  {
   "cell_type": "code",
   "execution_count": 5,
   "id": "f61942d3",
   "metadata": {},
   "outputs": [
    {
     "name": "stdout",
     "output_type": "stream",
     "text": [
      "Tabla dim_customers creada exitosamente.\n"
     ]
    }
   ],
   "source": [
    "# DIMENSIÓN dim_customers\n",
    "try:\n",
    "    conexion.execute(\"\"\"CREATE TABLE dim_customers (\n",
    "    CustomerId   INTEGER       PRIMARY KEY AUTOINCREMENT NOT NULL,\n",
    "    FirstName    NVARCHAR (40) NOT NULL,\n",
    "    LastName     NVARCHAR (20) NOT NULL,\n",
    "    Company      NVARCHAR (80),\n",
    "    Address      NVARCHAR (70),\n",
    "    City         NVARCHAR (40),\n",
    "    State        NVARCHAR (40),\n",
    "    Country      NVARCHAR (40),\n",
    "    PostalCode   NVARCHAR (10),\n",
    "    Phone        NVARCHAR (24),\n",
    "    Fax          NVARCHAR (24),\n",
    "    Email        NVARCHAR (60) NOT NULL,\n",
    "    SupportRepId INTEGER       NOT NULL REFERENCES dim_employees (EmployeeId)\n",
    "    );\"\"\")\n",
    "    print (\"Tabla dim_customers creada exitosamente.\")\n",
    "except sqlite3.OperationalError:\n",
    "    print (\"Tabla dim_customers ya existe en la base de datos.\")"
   ]
  },
  {
   "cell_type": "code",
   "execution_count": 6,
   "id": "6e4ecfd8",
   "metadata": {},
   "outputs": [
    {
     "name": "stdout",
     "output_type": "stream",
     "text": [
      "Tabla dim_employees creada exitosamente.\n"
     ]
    }
   ],
   "source": [
    "# DIMENSIÓN dim_employees\n",
    "try:\n",
    "    conexion.execute(\"\"\"CREATE TABLE dim_employees (\n",
    "    EmployeeId INTEGER       PRIMARY KEY AUTOINCREMENT NOT NULL,\n",
    "    LastName   NVARCHAR (20) NOT NULL,\n",
    "    FirstName  NVARCHAR (20) NOT NULL,\n",
    "    Title      NVARCHAR (30),\n",
    "    ReportsTo  INTEGER       REFERENCES dim_employees (EmployeeId),\n",
    "    BirthDate  DATETIME,\n",
    "    HireDate   DATETIME,\n",
    "    Address    NVARCHAR (70),\n",
    "    City       NVARCHAR (40),\n",
    "    State      NVARCHAR (40),\n",
    "    Country    NVARCHAR (40),\n",
    "    PostalCode NVARCHAR (10),\n",
    "    Phone      NVARCHAR (24),\n",
    "    Fax        NVARCHAR (24),\n",
    "    Email      NVARCHAR (60) \n",
    "    );\"\"\")\n",
    "    print (\"Tabla dim_employees creada exitosamente.\")\n",
    "except sqlite3.OperationalError:\n",
    "    print (\"Tabla dim_employees ya existe en la base de datos.\")"
   ]
  },
  {
   "cell_type": "code",
   "execution_count": 7,
   "id": "749a03ab",
   "metadata": {},
   "outputs": [
    {
     "name": "stdout",
     "output_type": "stream",
     "text": [
      "Tabla dim_genres creada exitosamente.\n"
     ]
    }
   ],
   "source": [
    "# DIMENSIÓN dim_genres\n",
    "try:\n",
    "    conexion.execute(\"\"\"CREATE TABLE dim_genres (\n",
    "    GenreId INTEGER        PRIMARY KEY AUTOINCREMENT NOT NULL,\n",
    "    Name    NVARCHAR (120) \n",
    "    )\"\"\")\n",
    "    print (\"Tabla dim_genres creada exitosamente.\")\n",
    "except sqlite3.OperationalError:\n",
    "    print (\"Tabla dim_genres ya existe en la base de datos.\")"
   ]
  },
  {
   "cell_type": "code",
   "execution_count": 8,
   "id": "7cf2fa7e",
   "metadata": {},
   "outputs": [
    {
     "name": "stdout",
     "output_type": "stream",
     "text": [
      "Tabla dim_invoices creada exitosamente.\n"
     ]
    }
   ],
   "source": [
    "# DIMENSIÓN dim_invoices\n",
    "try:\n",
    "    conexion.execute(\"\"\"CREATE TABLE dim_invoices (\n",
    "    InvoiceId INTEGER         PRIMARY KEY AUTOINCREMENT,\n",
    "    Total     NUMERIC (10, 2) NOT NULL\n",
    "    )\"\"\")\n",
    "    print (\"Tabla dim_invoices creada exitosamente.\")\n",
    "except sqlite3.OperationalError:\n",
    "    print (\"Tabla dim_invoices ya existe en la base de datos.\")"
   ]
  },
  {
   "cell_type": "code",
   "execution_count": 9,
   "id": "1cd17b1c",
   "metadata": {},
   "outputs": [
    {
     "name": "stdout",
     "output_type": "stream",
     "text": [
      "Tabla dim_media_types creada exitosamente.\n"
     ]
    }
   ],
   "source": [
    "# DIMENSIÓN dim_media_types\n",
    "try:\n",
    "    conexion.execute(\"\"\"CREATE TABLE dim_media_types (\n",
    "    MediaTypeId INTEGER        PRIMARY KEY AUTOINCREMENT NOT NULL,\n",
    "    Name        NVARCHAR (120) \n",
    "    )\"\"\")\n",
    "    print (\"Tabla dim_media_types creada exitosamente.\")\n",
    "except sqlite3.OperationalError:\n",
    "    print (\"Tabla dim_media_types ya existe en la base de datos.\")"
   ]
  },
  {
   "cell_type": "code",
   "execution_count": 10,
   "id": "ee5a4215",
   "metadata": {},
   "outputs": [
    {
     "name": "stdout",
     "output_type": "stream",
     "text": [
      "Tabla dim_tracks creada exitosamente.\n"
     ]
    }
   ],
   "source": [
    "# DIMENSIÓN dim_tracks\n",
    "try:\n",
    "    conexion.execute(\"\"\"CREATE TABLE dim_tracks (\n",
    "    TrackId      INTEGER         PRIMARY KEY AUTOINCREMENT NOT NULL,\n",
    "    Name         NVARCHAR (200)  NOT NULL,\n",
    "    MediaTypeId  INTEGER         NOT NULL REFERENCES dim_media_types (MediaTypeId),\n",
    "    GenreId      INTEGER         REFERENCES dim_genres (GenreId),\n",
    "    Composer     NVARCHAR (220),\n",
    "    Milliseconds INTEGER         NOT NULL,\n",
    "    Bytes        INTEGER,\n",
    "    UnitPrice    NUMERIC (10, 2) NOT NULL\n",
    "    )\"\"\")\n",
    "    print (\"Tabla dim_tracks creada exitosamente.\")\n",
    "except sqlite3.OperationalError:\n",
    "    print (\"Tabla dim_tracks ya existe en la base de datos.\")"
   ]
  },
  {
   "cell_type": "code",
   "execution_count": 11,
   "id": "4ffc5145",
   "metadata": {},
   "outputs": [
    {
     "name": "stdout",
     "output_type": "stream",
     "text": [
      "Tabla dim_playlists creada exitosamente.\n"
     ]
    }
   ],
   "source": [
    "# DIMENSIÓN dim_playlists\n",
    "try:\n",
    "    conexion.execute(\"\"\"CREATE TABLE dim_playlists (\n",
    "    PlaylistId INTEGER        PRIMARY KEY AUTOINCREMENT NOT NULL,\n",
    "    Name       NVARCHAR (120) \n",
    "    )\"\"\")\n",
    "    print (\"Tabla dim_playlists creada exitosamente.\")\n",
    "except sqlite3.OperationalError:\n",
    "    print (\"Tabla dim_playlists ya existe en la base de datos.\")"
   ]
  },
  {
   "cell_type": "code",
   "execution_count": 12,
   "id": "576510ea",
   "metadata": {},
   "outputs": [
    {
     "name": "stdout",
     "output_type": "stream",
     "text": [
      "Tabla dim_location creada exitosamente.\n"
     ]
    }
   ],
   "source": [
    "# DIMENSIÓN dim_location\n",
    "try:\n",
    "    conexion.execute(\"\"\"CREATE TABLE dim_location (\n",
    "    LocationId        INTEGER      PRIMARY KEY AUTOINCREMENT NOT NULL,\n",
    "    BillingAddress    VARCHAR (70),\n",
    "    BillingCity       VARCHAR (40),\n",
    "    BillingState      VARCHAR (40),\n",
    "    BillingCountry    VARCHAR (40),\n",
    "    BillingPostalCode VARCHAR (10) \n",
    "    )\"\"\")\n",
    "    print (\"Tabla dim_location creada exitosamente.\")\n",
    "except sqlite3.OperationalError:\n",
    "    print (\"Tabla dim_location ya existe en la base de datos.\")"
   ]
  },
  {
   "cell_type": "code",
   "execution_count": 13,
   "id": "d94953eb",
   "metadata": {},
   "outputs": [
    {
     "name": "stdout",
     "output_type": "stream",
     "text": [
      "Tabla dim_time creada exitosamente.\n"
     ]
    }
   ],
   "source": [
    "# DIMENSIÓN dim_time\n",
    "try:\n",
    "    conexion.execute(\"\"\"CREATE TABLE dim_time( \n",
    "    TimeId      INTEGER     PRIMARY KEY AUTOINCREMENT NOT NULL,\n",
    "    Year        INTEGER     NOT NULL, \n",
    "    Quarter     INTEGER     NOT NULL, \n",
    "    Month       INTEGER     NOT NULL, \n",
    "    Week        INTEGER     NOT NULL, \n",
    "    Day         INTEGER     NOT NULL, \n",
    "    WeekDay     INTEGER     NOT NULL, \n",
    "    Month_Name  VARCHAR(15) NOT NULL,   \n",
    "    Day_Name    VARCHAR(6)  NOT NULL\n",
    "    )\"\"\")\n",
    "    print (\"Tabla dim_time creada exitosamente.\")\n",
    "except sqlite3.OperationalError:\n",
    "    print (\"Tabla dim_time ya existe en la base de datos.\")"
   ]
  },
  {
   "cell_type": "code",
   "execution_count": 14,
   "id": "52085244",
   "metadata": {},
   "outputs": [
    {
     "name": "stdout",
     "output_type": "stream",
     "text": [
      "Tabla fact_invoice_items creada exitosamente.\n"
     ]
    }
   ],
   "source": [
    "# TABLA DE HECHOS fact_invoice_items\n",
    "try:\n",
    "    conexion.execute(\"\"\"CREATE TABLE fact_invoice_items (\n",
    "    Id         INTEGER PRIMARY KEY AUTOINCREMENT NOT NULL,\n",
    "    InvoiceID  INTEGER REFERENCES dim_invoices (InvoiceId) NOT NULL,\n",
    "    CustomerID INTEGER REFERENCES dim_customers (CustomerId) NOT NULL,\n",
    "    TracksID   INTEGER REFERENCES dim_tracks (TrackId) NOT NULL,\n",
    "    TimeID     INTEGER REFERENCES dim_time (TimeId) NOT NULL,\n",
    "    LocationID INTEGER REFERENCES dim_location (LocationId) NOT NULL,\n",
    "    PlaylistID INTEGER REFERENCES dim_playlists (PlaylistId) NOT NULL,\n",
    "    ArtistID   INTEGER REFERENCES dim_artists (ArtistId) NOT NULL,\n",
    "    AlbumID    INTEGER REFERENCES dim_albums (AlbumId) NOT NULL,\n",
    "    Quantity   INTEGER NOT NULL\n",
    "    )\"\"\")\n",
    "    print (\"Tabla fact_invoice_items creada exitosamente.\")\n",
    "except sqlite3.OperationalError:\n",
    "    print (\"Tabla fact_invoice_items ya existe en la base de datos.\")"
   ]
  },
  {
   "cell_type": "markdown",
   "id": "5bc9b288",
   "metadata": {},
   "source": [
    "# Conexión a las bases de datos"
   ]
  },
  {
   "cell_type": "code",
   "execution_count": 15,
   "id": "4ebe951f",
   "metadata": {
    "colab": {
     "base_uri": "https://localhost:8080/"
    },
    "id": "4ebe951f",
    "outputId": "c0f11365-cea7-4afd-a491-b798797c5f88"
   },
   "outputs": [
    {
     "data": {
      "text/plain": [
       "Engine(sqlite:///chinook.db)"
      ]
     },
     "execution_count": 15,
     "metadata": {},
     "output_type": "execute_result"
    }
   ],
   "source": [
    "# Conexión a la base de datos transalacional\n",
    "engine = create_engine('sqlite:///chinook.db')\n",
    "engine"
   ]
  },
  {
   "cell_type": "code",
   "execution_count": 16,
   "id": "92436bd5",
   "metadata": {},
   "outputs": [
    {
     "data": {
      "text/plain": [
       "Engine(sqlite:///chinook_multidimensional.db)"
      ]
     },
     "execution_count": 16,
     "metadata": {},
     "output_type": "execute_result"
    }
   ],
   "source": [
    "# Conexión a la base de datos Multidimensional\n",
    "engineMM = create_engine('sqlite:///chinook_multidimensional.db')\n",
    "engineMM"
   ]
  },
  {
   "cell_type": "markdown",
   "id": "cc08b636",
   "metadata": {
    "id": "cc08b636"
   },
   "source": [
    "# Extract"
   ]
  },
  {
   "cell_type": "code",
   "execution_count": 17,
   "id": "3878f188",
   "metadata": {
    "colab": {
     "base_uri": "https://localhost:8080/"
    },
    "id": "3878f188",
    "outputId": "6a7a9c53-d531-4719-f711-efd458a091c6"
   },
   "outputs": [],
   "source": [
    "metadata = MetaData()\n",
    "\n",
    "metadata.create_all(engine)\n",
    "metadata.create_all(engineMM)\n",
    "\n",
    "inspector = inspect(engine)\n",
    "inspectorWH = inspect(engineMM)"
   ]
  },
  {
   "cell_type": "code",
   "execution_count": 18,
   "id": "b22d58c0",
   "metadata": {},
   "outputs": [
    {
     "data": {
      "text/plain": [
       "[{'name': 'TrackId',\n",
       "  'type': INTEGER(),\n",
       "  'nullable': False,\n",
       "  'default': None,\n",
       "  'autoincrement': 'auto',\n",
       "  'primary_key': 1},\n",
       " {'name': 'Name',\n",
       "  'type': NVARCHAR(length=200),\n",
       "  'nullable': False,\n",
       "  'default': None,\n",
       "  'autoincrement': 'auto',\n",
       "  'primary_key': 0},\n",
       " {'name': 'AlbumId',\n",
       "  'type': INTEGER(),\n",
       "  'nullable': True,\n",
       "  'default': None,\n",
       "  'autoincrement': 'auto',\n",
       "  'primary_key': 0},\n",
       " {'name': 'MediaTypeId',\n",
       "  'type': INTEGER(),\n",
       "  'nullable': False,\n",
       "  'default': None,\n",
       "  'autoincrement': 'auto',\n",
       "  'primary_key': 0},\n",
       " {'name': 'GenreId',\n",
       "  'type': INTEGER(),\n",
       "  'nullable': True,\n",
       "  'default': None,\n",
       "  'autoincrement': 'auto',\n",
       "  'primary_key': 0},\n",
       " {'name': 'Composer',\n",
       "  'type': NVARCHAR(length=220),\n",
       "  'nullable': True,\n",
       "  'default': None,\n",
       "  'autoincrement': 'auto',\n",
       "  'primary_key': 0},\n",
       " {'name': 'Milliseconds',\n",
       "  'type': INTEGER(),\n",
       "  'nullable': False,\n",
       "  'default': None,\n",
       "  'autoincrement': 'auto',\n",
       "  'primary_key': 0},\n",
       " {'name': 'Bytes',\n",
       "  'type': INTEGER(),\n",
       "  'nullable': True,\n",
       "  'default': None,\n",
       "  'autoincrement': 'auto',\n",
       "  'primary_key': 0},\n",
       " {'name': 'UnitPrice',\n",
       "  'type': NUMERIC(precision=10, scale=2),\n",
       "  'nullable': False,\n",
       "  'default': None,\n",
       "  'autoincrement': 'auto',\n",
       "  'primary_key': 0}]"
      ]
     },
     "execution_count": 18,
     "metadata": {},
     "output_type": "execute_result"
    }
   ],
   "source": [
    "# OBTENER DATOS\n",
    "inspector.get_columns('employees')\n",
    "inspector.get_columns('albums')\n",
    "inspector.get_columns('media_types')\n",
    "inspector.get_columns('genres')\n",
    "inspector.get_columns('playlists')\n",
    "inspector.get_columns('artists')\n",
    "inspector.get_columns('invoices')\n",
    "inspector.get_columns('customers')\n",
    "inspector.get_columns('tracks')"
   ]
  },
  {
   "cell_type": "markdown",
   "id": "a4fce0c4",
   "metadata": {},
   "source": [
    "# Transform"
   ]
  },
  {
   "cell_type": "code",
   "execution_count": 21,
   "id": "422eab8f",
   "metadata": {},
   "outputs": [],
   "source": [
    "import pandas as pd"
   ]
  },
  {
   "cell_type": "markdown",
   "id": "0669fc1d",
   "metadata": {},
   "source": [
    "### Tabla albums"
   ]
  },
  {
   "cell_type": "code",
   "execution_count": 19,
   "id": "26b8648e",
   "metadata": {},
   "outputs": [
    {
     "data": {
      "text/html": [
       "<div>\n",
       "<style scoped>\n",
       "    .dataframe tbody tr th:only-of-type {\n",
       "        vertical-align: middle;\n",
       "    }\n",
       "\n",
       "    .dataframe tbody tr th {\n",
       "        vertical-align: top;\n",
       "    }\n",
       "\n",
       "    .dataframe thead th {\n",
       "        text-align: right;\n",
       "    }\n",
       "</style>\n",
       "<table border=\"1\" class=\"dataframe\">\n",
       "  <thead>\n",
       "    <tr style=\"text-align: right;\">\n",
       "      <th></th>\n",
       "      <th>AlbumId</th>\n",
       "      <th>Title</th>\n",
       "    </tr>\n",
       "  </thead>\n",
       "  <tbody>\n",
       "    <tr>\n",
       "      <th>0</th>\n",
       "      <td>1</td>\n",
       "      <td>For Those About To Rock We Salute You</td>\n",
       "    </tr>\n",
       "    <tr>\n",
       "      <th>1</th>\n",
       "      <td>2</td>\n",
       "      <td>Balls to the Wall</td>\n",
       "    </tr>\n",
       "    <tr>\n",
       "      <th>2</th>\n",
       "      <td>3</td>\n",
       "      <td>Restless and Wild</td>\n",
       "    </tr>\n",
       "    <tr>\n",
       "      <th>3</th>\n",
       "      <td>4</td>\n",
       "      <td>Let There Be Rock</td>\n",
       "    </tr>\n",
       "    <tr>\n",
       "      <th>4</th>\n",
       "      <td>5</td>\n",
       "      <td>Big Ones</td>\n",
       "    </tr>\n",
       "  </tbody>\n",
       "</table>\n",
       "</div>"
      ],
      "text/plain": [
       "   AlbumId                                  Title\n",
       "0        1  For Those About To Rock We Salute You\n",
       "1        2                      Balls to the Wall\n",
       "2        3                      Restless and Wild\n",
       "3        4                      Let There Be Rock\n",
       "4        5                               Big Ones"
      ]
     },
     "execution_count": 19,
     "metadata": {},
     "output_type": "execute_result"
    }
   ],
   "source": [
    "df_albums=pd.read_sql_query(\"\"\"SELECT AlbumId, Title\n",
    "FROM albums;\"\"\", con=engine.connect())\n",
    "df_albums.head()"
   ]
  },
  {
   "cell_type": "markdown",
   "id": "b0122d4f",
   "metadata": {},
   "source": [
    "### Tabla artists"
   ]
  },
  {
   "cell_type": "code",
   "execution_count": 20,
   "id": "cf864389",
   "metadata": {},
   "outputs": [
    {
     "data": {
      "text/html": [
       "<div>\n",
       "<style scoped>\n",
       "    .dataframe tbody tr th:only-of-type {\n",
       "        vertical-align: middle;\n",
       "    }\n",
       "\n",
       "    .dataframe tbody tr th {\n",
       "        vertical-align: top;\n",
       "    }\n",
       "\n",
       "    .dataframe thead th {\n",
       "        text-align: right;\n",
       "    }\n",
       "</style>\n",
       "<table border=\"1\" class=\"dataframe\">\n",
       "  <thead>\n",
       "    <tr style=\"text-align: right;\">\n",
       "      <th></th>\n",
       "      <th>ArtistId</th>\n",
       "      <th>Name</th>\n",
       "    </tr>\n",
       "  </thead>\n",
       "  <tbody>\n",
       "    <tr>\n",
       "      <th>0</th>\n",
       "      <td>1</td>\n",
       "      <td>AC/DC</td>\n",
       "    </tr>\n",
       "    <tr>\n",
       "      <th>1</th>\n",
       "      <td>2</td>\n",
       "      <td>Accept</td>\n",
       "    </tr>\n",
       "    <tr>\n",
       "      <th>2</th>\n",
       "      <td>3</td>\n",
       "      <td>Aerosmith</td>\n",
       "    </tr>\n",
       "    <tr>\n",
       "      <th>3</th>\n",
       "      <td>4</td>\n",
       "      <td>Alanis Morissette</td>\n",
       "    </tr>\n",
       "    <tr>\n",
       "      <th>4</th>\n",
       "      <td>5</td>\n",
       "      <td>Alice In Chains</td>\n",
       "    </tr>\n",
       "  </tbody>\n",
       "</table>\n",
       "</div>"
      ],
      "text/plain": [
       "   ArtistId               Name\n",
       "0         1              AC/DC\n",
       "1         2             Accept\n",
       "2         3          Aerosmith\n",
       "3         4  Alanis Morissette\n",
       "4         5    Alice In Chains"
      ]
     },
     "execution_count": 20,
     "metadata": {},
     "output_type": "execute_result"
    }
   ],
   "source": [
    "df_artists=pd.read_sql_query(\"\"\"SELECT ArtistID, Name\n",
    "FROM artists;\"\"\", con=engine.connect())\n",
    "df_artists.head()"
   ]
  },
  {
   "cell_type": "markdown",
   "id": "d9d0510d",
   "metadata": {},
   "source": [
    "### Tabla customers"
   ]
  },
  {
   "cell_type": "code",
   "execution_count": 22,
   "id": "84b0a94c",
   "metadata": {},
   "outputs": [
    {
     "data": {
      "text/html": [
       "<div>\n",
       "<style scoped>\n",
       "    .dataframe tbody tr th:only-of-type {\n",
       "        vertical-align: middle;\n",
       "    }\n",
       "\n",
       "    .dataframe tbody tr th {\n",
       "        vertical-align: top;\n",
       "    }\n",
       "\n",
       "    .dataframe thead th {\n",
       "        text-align: right;\n",
       "    }\n",
       "</style>\n",
       "<table border=\"1\" class=\"dataframe\">\n",
       "  <thead>\n",
       "    <tr style=\"text-align: right;\">\n",
       "      <th></th>\n",
       "      <th>CustomerId</th>\n",
       "      <th>FirstName</th>\n",
       "      <th>LastName</th>\n",
       "      <th>Company</th>\n",
       "      <th>Address</th>\n",
       "      <th>City</th>\n",
       "      <th>State</th>\n",
       "      <th>Country</th>\n",
       "      <th>PostalCode</th>\n",
       "      <th>Phone</th>\n",
       "      <th>Fax</th>\n",
       "      <th>Email</th>\n",
       "      <th>SupportRepId</th>\n",
       "    </tr>\n",
       "  </thead>\n",
       "  <tbody>\n",
       "    <tr>\n",
       "      <th>0</th>\n",
       "      <td>1</td>\n",
       "      <td>Luís</td>\n",
       "      <td>Gonçalves</td>\n",
       "      <td>Embraer - Empresa Brasileira de Aeronáutica S.A.</td>\n",
       "      <td>Av. Brigadeiro Faria Lima, 2170</td>\n",
       "      <td>São José dos Campos</td>\n",
       "      <td>SP</td>\n",
       "      <td>Brazil</td>\n",
       "      <td>12227-000</td>\n",
       "      <td>+55 (12) 3923-5555</td>\n",
       "      <td>+55 (12) 3923-5566</td>\n",
       "      <td>luisg@embraer.com.br</td>\n",
       "      <td>3</td>\n",
       "    </tr>\n",
       "    <tr>\n",
       "      <th>1</th>\n",
       "      <td>2</td>\n",
       "      <td>Leonie</td>\n",
       "      <td>Köhler</td>\n",
       "      <td>NA</td>\n",
       "      <td>Theodor-Heuss-Straße 34</td>\n",
       "      <td>Stuttgart</td>\n",
       "      <td>NA</td>\n",
       "      <td>Germany</td>\n",
       "      <td>70174</td>\n",
       "      <td>+49 0711 2842222</td>\n",
       "      <td>NA</td>\n",
       "      <td>leonekohler@surfeu.de</td>\n",
       "      <td>5</td>\n",
       "    </tr>\n",
       "    <tr>\n",
       "      <th>2</th>\n",
       "      <td>3</td>\n",
       "      <td>François</td>\n",
       "      <td>Tremblay</td>\n",
       "      <td>NA</td>\n",
       "      <td>1498 rue Bélanger</td>\n",
       "      <td>Montréal</td>\n",
       "      <td>QC</td>\n",
       "      <td>Canada</td>\n",
       "      <td>H2G 1A7</td>\n",
       "      <td>+1 (514) 721-4711</td>\n",
       "      <td>NA</td>\n",
       "      <td>ftremblay@gmail.com</td>\n",
       "      <td>3</td>\n",
       "    </tr>\n",
       "    <tr>\n",
       "      <th>3</th>\n",
       "      <td>4</td>\n",
       "      <td>Bjørn</td>\n",
       "      <td>Hansen</td>\n",
       "      <td>NA</td>\n",
       "      <td>Ullevålsveien 14</td>\n",
       "      <td>Oslo</td>\n",
       "      <td>NA</td>\n",
       "      <td>Norway</td>\n",
       "      <td>0171</td>\n",
       "      <td>+47 22 44 22 22</td>\n",
       "      <td>NA</td>\n",
       "      <td>bjorn.hansen@yahoo.no</td>\n",
       "      <td>4</td>\n",
       "    </tr>\n",
       "    <tr>\n",
       "      <th>4</th>\n",
       "      <td>5</td>\n",
       "      <td>František</td>\n",
       "      <td>Wichterlová</td>\n",
       "      <td>JetBrains s.r.o.</td>\n",
       "      <td>Klanova 9/506</td>\n",
       "      <td>Prague</td>\n",
       "      <td>NA</td>\n",
       "      <td>Czech Republic</td>\n",
       "      <td>14700</td>\n",
       "      <td>+420 2 4172 5555</td>\n",
       "      <td>+420 2 4172 5555</td>\n",
       "      <td>frantisekw@jetbrains.com</td>\n",
       "      <td>4</td>\n",
       "    </tr>\n",
       "  </tbody>\n",
       "</table>\n",
       "</div>"
      ],
      "text/plain": [
       "   CustomerId  FirstName     LastName  \\\n",
       "0           1       Luís    Gonçalves   \n",
       "1           2     Leonie       Köhler   \n",
       "2           3   François     Tremblay   \n",
       "3           4      Bjørn       Hansen   \n",
       "4           5  František  Wichterlová   \n",
       "\n",
       "                                            Company  \\\n",
       "0  Embraer - Empresa Brasileira de Aeronáutica S.A.   \n",
       "1                                                NA   \n",
       "2                                                NA   \n",
       "3                                                NA   \n",
       "4                                  JetBrains s.r.o.   \n",
       "\n",
       "                           Address                 City State         Country  \\\n",
       "0  Av. Brigadeiro Faria Lima, 2170  São José dos Campos    SP          Brazil   \n",
       "1          Theodor-Heuss-Straße 34            Stuttgart    NA         Germany   \n",
       "2                1498 rue Bélanger             Montréal    QC          Canada   \n",
       "3                 Ullevålsveien 14                 Oslo    NA          Norway   \n",
       "4                    Klanova 9/506               Prague    NA  Czech Republic   \n",
       "\n",
       "  PostalCode               Phone                 Fax  \\\n",
       "0  12227-000  +55 (12) 3923-5555  +55 (12) 3923-5566   \n",
       "1      70174    +49 0711 2842222                  NA   \n",
       "2    H2G 1A7   +1 (514) 721-4711                  NA   \n",
       "3       0171     +47 22 44 22 22                  NA   \n",
       "4      14700    +420 2 4172 5555    +420 2 4172 5555   \n",
       "\n",
       "                      Email  SupportRepId  \n",
       "0      luisg@embraer.com.br             3  \n",
       "1     leonekohler@surfeu.de             5  \n",
       "2       ftremblay@gmail.com             3  \n",
       "3     bjorn.hansen@yahoo.no             4  \n",
       "4  frantisekw@jetbrains.com             4  "
      ]
     },
     "execution_count": 22,
     "metadata": {},
     "output_type": "execute_result"
    }
   ],
   "source": [
    "df_customers=pd.read_sql_query(\"\"\"SELECT CustomerId,Firstname,LastName,\n",
    "Company,Address,City,State,Country,PostalCode,Phone,Fax,Email,SupportRepId\n",
    "FROM customers;\"\"\", con=engine.connect())\n",
    "df_customers.head()"
   ]
  },
  {
   "cell_type": "markdown",
   "id": "a7742ab6",
   "metadata": {},
   "source": [
    "### Tabla employees"
   ]
  },
  {
   "cell_type": "code",
   "execution_count": 23,
   "id": "8bc3cc81",
   "metadata": {},
   "outputs": [
    {
     "data": {
      "text/html": [
       "<div>\n",
       "<style scoped>\n",
       "    .dataframe tbody tr th:only-of-type {\n",
       "        vertical-align: middle;\n",
       "    }\n",
       "\n",
       "    .dataframe tbody tr th {\n",
       "        vertical-align: top;\n",
       "    }\n",
       "\n",
       "    .dataframe thead th {\n",
       "        text-align: right;\n",
       "    }\n",
       "</style>\n",
       "<table border=\"1\" class=\"dataframe\">\n",
       "  <thead>\n",
       "    <tr style=\"text-align: right;\">\n",
       "      <th></th>\n",
       "      <th>EmployeeId</th>\n",
       "      <th>LastName</th>\n",
       "      <th>FirstName</th>\n",
       "      <th>Title</th>\n",
       "      <th>ReportsTo</th>\n",
       "      <th>BirthDate</th>\n",
       "      <th>HireDate</th>\n",
       "      <th>Address</th>\n",
       "      <th>City</th>\n",
       "      <th>State</th>\n",
       "      <th>Country</th>\n",
       "      <th>PostalCode</th>\n",
       "      <th>Phone</th>\n",
       "      <th>Fax</th>\n",
       "      <th>Email</th>\n",
       "    </tr>\n",
       "  </thead>\n",
       "  <tbody>\n",
       "    <tr>\n",
       "      <th>0</th>\n",
       "      <td>1</td>\n",
       "      <td>Adams</td>\n",
       "      <td>Andrew</td>\n",
       "      <td>General Manager</td>\n",
       "      <td>NaN</td>\n",
       "      <td>1962-02-18 00:00:00</td>\n",
       "      <td>2002-08-14 00:00:00</td>\n",
       "      <td>11120 Jasper Ave NW</td>\n",
       "      <td>Edmonton</td>\n",
       "      <td>AB</td>\n",
       "      <td>Canada</td>\n",
       "      <td>T5K 2N1</td>\n",
       "      <td>+1 (780) 428-9482</td>\n",
       "      <td>+1 (780) 428-3457</td>\n",
       "      <td>andrew@chinookcorp.com</td>\n",
       "    </tr>\n",
       "    <tr>\n",
       "      <th>1</th>\n",
       "      <td>2</td>\n",
       "      <td>Edwards</td>\n",
       "      <td>Nancy</td>\n",
       "      <td>Sales Manager</td>\n",
       "      <td>1.0</td>\n",
       "      <td>1958-12-08 00:00:00</td>\n",
       "      <td>2002-05-01 00:00:00</td>\n",
       "      <td>825 8 Ave SW</td>\n",
       "      <td>Calgary</td>\n",
       "      <td>AB</td>\n",
       "      <td>Canada</td>\n",
       "      <td>T2P 2T3</td>\n",
       "      <td>+1 (403) 262-3443</td>\n",
       "      <td>+1 (403) 262-3322</td>\n",
       "      <td>nancy@chinookcorp.com</td>\n",
       "    </tr>\n",
       "    <tr>\n",
       "      <th>2</th>\n",
       "      <td>3</td>\n",
       "      <td>Peacock</td>\n",
       "      <td>Jane</td>\n",
       "      <td>Sales Support Agent</td>\n",
       "      <td>2.0</td>\n",
       "      <td>1973-08-29 00:00:00</td>\n",
       "      <td>2002-04-01 00:00:00</td>\n",
       "      <td>1111 6 Ave SW</td>\n",
       "      <td>Calgary</td>\n",
       "      <td>AB</td>\n",
       "      <td>Canada</td>\n",
       "      <td>T2P 5M5</td>\n",
       "      <td>+1 (403) 262-3443</td>\n",
       "      <td>+1 (403) 262-6712</td>\n",
       "      <td>jane@chinookcorp.com</td>\n",
       "    </tr>\n",
       "    <tr>\n",
       "      <th>3</th>\n",
       "      <td>4</td>\n",
       "      <td>Park</td>\n",
       "      <td>Margaret</td>\n",
       "      <td>Sales Support Agent</td>\n",
       "      <td>2.0</td>\n",
       "      <td>1947-09-19 00:00:00</td>\n",
       "      <td>2003-05-03 00:00:00</td>\n",
       "      <td>683 10 Street SW</td>\n",
       "      <td>Calgary</td>\n",
       "      <td>AB</td>\n",
       "      <td>Canada</td>\n",
       "      <td>T2P 5G3</td>\n",
       "      <td>+1 (403) 263-4423</td>\n",
       "      <td>+1 (403) 263-4289</td>\n",
       "      <td>margaret@chinookcorp.com</td>\n",
       "    </tr>\n",
       "    <tr>\n",
       "      <th>4</th>\n",
       "      <td>5</td>\n",
       "      <td>Johnson</td>\n",
       "      <td>Steve</td>\n",
       "      <td>Sales Support Agent</td>\n",
       "      <td>2.0</td>\n",
       "      <td>1965-03-03 00:00:00</td>\n",
       "      <td>2003-10-17 00:00:00</td>\n",
       "      <td>7727B 41 Ave</td>\n",
       "      <td>Calgary</td>\n",
       "      <td>AB</td>\n",
       "      <td>Canada</td>\n",
       "      <td>T3B 1Y7</td>\n",
       "      <td>1 (780) 836-9987</td>\n",
       "      <td>1 (780) 836-9543</td>\n",
       "      <td>steve@chinookcorp.com</td>\n",
       "    </tr>\n",
       "  </tbody>\n",
       "</table>\n",
       "</div>"
      ],
      "text/plain": [
       "   EmployeeId LastName FirstName                Title  ReportsTo  \\\n",
       "0           1    Adams    Andrew      General Manager        NaN   \n",
       "1           2  Edwards     Nancy        Sales Manager        1.0   \n",
       "2           3  Peacock      Jane  Sales Support Agent        2.0   \n",
       "3           4     Park  Margaret  Sales Support Agent        2.0   \n",
       "4           5  Johnson     Steve  Sales Support Agent        2.0   \n",
       "\n",
       "             BirthDate             HireDate              Address      City  \\\n",
       "0  1962-02-18 00:00:00  2002-08-14 00:00:00  11120 Jasper Ave NW  Edmonton   \n",
       "1  1958-12-08 00:00:00  2002-05-01 00:00:00         825 8 Ave SW   Calgary   \n",
       "2  1973-08-29 00:00:00  2002-04-01 00:00:00        1111 6 Ave SW   Calgary   \n",
       "3  1947-09-19 00:00:00  2003-05-03 00:00:00     683 10 Street SW   Calgary   \n",
       "4  1965-03-03 00:00:00  2003-10-17 00:00:00         7727B 41 Ave   Calgary   \n",
       "\n",
       "  State Country PostalCode              Phone                Fax  \\\n",
       "0    AB  Canada    T5K 2N1  +1 (780) 428-9482  +1 (780) 428-3457   \n",
       "1    AB  Canada    T2P 2T3  +1 (403) 262-3443  +1 (403) 262-3322   \n",
       "2    AB  Canada    T2P 5M5  +1 (403) 262-3443  +1 (403) 262-6712   \n",
       "3    AB  Canada    T2P 5G3  +1 (403) 263-4423  +1 (403) 263-4289   \n",
       "4    AB  Canada    T3B 1Y7   1 (780) 836-9987   1 (780) 836-9543   \n",
       "\n",
       "                      Email  \n",
       "0    andrew@chinookcorp.com  \n",
       "1     nancy@chinookcorp.com  \n",
       "2      jane@chinookcorp.com  \n",
       "3  margaret@chinookcorp.com  \n",
       "4     steve@chinookcorp.com  "
      ]
     },
     "execution_count": 23,
     "metadata": {},
     "output_type": "execute_result"
    }
   ],
   "source": [
    "df_employees=pd.read_sql_query(\"\"\"SELECT EmployeeId, LastName, \n",
    "FirstName, Title, ReportsTo, BirthDate, HireDate, Address, \n",
    "City, State, Country, PostalCode, Phone, Fax, Email\n",
    "FROM employees;\"\"\", con=engine.connect())\n",
    "df_employees.head()"
   ]
  },
  {
   "cell_type": "markdown",
   "id": "77dfc95d",
   "metadata": {},
   "source": [
    "### Tabla genre"
   ]
  },
  {
   "cell_type": "code",
   "execution_count": 24,
   "id": "83ab1189",
   "metadata": {},
   "outputs": [
    {
     "data": {
      "text/html": [
       "<div>\n",
       "<style scoped>\n",
       "    .dataframe tbody tr th:only-of-type {\n",
       "        vertical-align: middle;\n",
       "    }\n",
       "\n",
       "    .dataframe tbody tr th {\n",
       "        vertical-align: top;\n",
       "    }\n",
       "\n",
       "    .dataframe thead th {\n",
       "        text-align: right;\n",
       "    }\n",
       "</style>\n",
       "<table border=\"1\" class=\"dataframe\">\n",
       "  <thead>\n",
       "    <tr style=\"text-align: right;\">\n",
       "      <th></th>\n",
       "      <th>GenreId</th>\n",
       "      <th>Name</th>\n",
       "    </tr>\n",
       "  </thead>\n",
       "  <tbody>\n",
       "    <tr>\n",
       "      <th>0</th>\n",
       "      <td>1</td>\n",
       "      <td>Rock</td>\n",
       "    </tr>\n",
       "    <tr>\n",
       "      <th>1</th>\n",
       "      <td>2</td>\n",
       "      <td>Jazz</td>\n",
       "    </tr>\n",
       "    <tr>\n",
       "      <th>2</th>\n",
       "      <td>3</td>\n",
       "      <td>Metal</td>\n",
       "    </tr>\n",
       "    <tr>\n",
       "      <th>3</th>\n",
       "      <td>4</td>\n",
       "      <td>Alternative &amp; Punk</td>\n",
       "    </tr>\n",
       "    <tr>\n",
       "      <th>4</th>\n",
       "      <td>5</td>\n",
       "      <td>Rock And Roll</td>\n",
       "    </tr>\n",
       "  </tbody>\n",
       "</table>\n",
       "</div>"
      ],
      "text/plain": [
       "   GenreId                Name\n",
       "0        1                Rock\n",
       "1        2                Jazz\n",
       "2        3               Metal\n",
       "3        4  Alternative & Punk\n",
       "4        5       Rock And Roll"
      ]
     },
     "execution_count": 24,
     "metadata": {},
     "output_type": "execute_result"
    }
   ],
   "source": [
    "df_genres=pd.read_sql_query(\"\"\"SELECT GenreID, Name\n",
    "FROM genres;\"\"\", con=engine.connect())\n",
    "df_genres.head()"
   ]
  },
  {
   "cell_type": "markdown",
   "id": "108f41c8",
   "metadata": {},
   "source": [
    "### Tabla invoices"
   ]
  },
  {
   "cell_type": "code",
   "execution_count": 25,
   "id": "571112f8",
   "metadata": {},
   "outputs": [
    {
     "data": {
      "text/html": [
       "<div>\n",
       "<style scoped>\n",
       "    .dataframe tbody tr th:only-of-type {\n",
       "        vertical-align: middle;\n",
       "    }\n",
       "\n",
       "    .dataframe tbody tr th {\n",
       "        vertical-align: top;\n",
       "    }\n",
       "\n",
       "    .dataframe thead th {\n",
       "        text-align: right;\n",
       "    }\n",
       "</style>\n",
       "<table border=\"1\" class=\"dataframe\">\n",
       "  <thead>\n",
       "    <tr style=\"text-align: right;\">\n",
       "      <th></th>\n",
       "      <th>InvoiceId</th>\n",
       "      <th>Total</th>\n",
       "    </tr>\n",
       "  </thead>\n",
       "  <tbody>\n",
       "    <tr>\n",
       "      <th>0</th>\n",
       "      <td>1</td>\n",
       "      <td>1.98</td>\n",
       "    </tr>\n",
       "    <tr>\n",
       "      <th>1</th>\n",
       "      <td>2</td>\n",
       "      <td>3.96</td>\n",
       "    </tr>\n",
       "    <tr>\n",
       "      <th>2</th>\n",
       "      <td>3</td>\n",
       "      <td>5.94</td>\n",
       "    </tr>\n",
       "    <tr>\n",
       "      <th>3</th>\n",
       "      <td>4</td>\n",
       "      <td>8.91</td>\n",
       "    </tr>\n",
       "    <tr>\n",
       "      <th>4</th>\n",
       "      <td>5</td>\n",
       "      <td>13.86</td>\n",
       "    </tr>\n",
       "  </tbody>\n",
       "</table>\n",
       "</div>"
      ],
      "text/plain": [
       "   InvoiceId  Total\n",
       "0          1   1.98\n",
       "1          2   3.96\n",
       "2          3   5.94\n",
       "3          4   8.91\n",
       "4          5  13.86"
      ]
     },
     "execution_count": 25,
     "metadata": {},
     "output_type": "execute_result"
    }
   ],
   "source": [
    "df_invoices=pd.read_sql_query(\"\"\"SELECT InvoiceID, Total\n",
    "FROM invoices;\"\"\", con=engine.connect())\n",
    "df_invoices.head()"
   ]
  },
  {
   "cell_type": "markdown",
   "id": "ca1cd800",
   "metadata": {},
   "source": [
    "### Tabla media_types"
   ]
  },
  {
   "cell_type": "code",
   "execution_count": 26,
   "id": "2094da83",
   "metadata": {},
   "outputs": [
    {
     "data": {
      "text/html": [
       "<div>\n",
       "<style scoped>\n",
       "    .dataframe tbody tr th:only-of-type {\n",
       "        vertical-align: middle;\n",
       "    }\n",
       "\n",
       "    .dataframe tbody tr th {\n",
       "        vertical-align: top;\n",
       "    }\n",
       "\n",
       "    .dataframe thead th {\n",
       "        text-align: right;\n",
       "    }\n",
       "</style>\n",
       "<table border=\"1\" class=\"dataframe\">\n",
       "  <thead>\n",
       "    <tr style=\"text-align: right;\">\n",
       "      <th></th>\n",
       "      <th>MediaTypeId</th>\n",
       "      <th>Name</th>\n",
       "    </tr>\n",
       "  </thead>\n",
       "  <tbody>\n",
       "    <tr>\n",
       "      <th>0</th>\n",
       "      <td>1</td>\n",
       "      <td>MPEG audio file</td>\n",
       "    </tr>\n",
       "    <tr>\n",
       "      <th>1</th>\n",
       "      <td>2</td>\n",
       "      <td>Protected AAC audio file</td>\n",
       "    </tr>\n",
       "    <tr>\n",
       "      <th>2</th>\n",
       "      <td>3</td>\n",
       "      <td>Protected MPEG-4 video file</td>\n",
       "    </tr>\n",
       "    <tr>\n",
       "      <th>3</th>\n",
       "      <td>4</td>\n",
       "      <td>Purchased AAC audio file</td>\n",
       "    </tr>\n",
       "    <tr>\n",
       "      <th>4</th>\n",
       "      <td>5</td>\n",
       "      <td>AAC audio file</td>\n",
       "    </tr>\n",
       "  </tbody>\n",
       "</table>\n",
       "</div>"
      ],
      "text/plain": [
       "   MediaTypeId                         Name\n",
       "0            1              MPEG audio file\n",
       "1            2     Protected AAC audio file\n",
       "2            3  Protected MPEG-4 video file\n",
       "3            4     Purchased AAC audio file\n",
       "4            5               AAC audio file"
      ]
     },
     "execution_count": 26,
     "metadata": {},
     "output_type": "execute_result"
    }
   ],
   "source": [
    "df_mediatypes=pd.read_sql_query(\"\"\"SELECT MediaTypeID, Name\n",
    "FROM media_types;\"\"\", con=engine.connect())\n",
    "df_mediatypes.head()"
   ]
  },
  {
   "cell_type": "markdown",
   "id": "a075c595",
   "metadata": {},
   "source": [
    "### Tabla tracks"
   ]
  },
  {
   "cell_type": "code",
   "execution_count": 27,
   "id": "fee2c9a8",
   "metadata": {},
   "outputs": [
    {
     "data": {
      "text/html": [
       "<div>\n",
       "<style scoped>\n",
       "    .dataframe tbody tr th:only-of-type {\n",
       "        vertical-align: middle;\n",
       "    }\n",
       "\n",
       "    .dataframe tbody tr th {\n",
       "        vertical-align: top;\n",
       "    }\n",
       "\n",
       "    .dataframe thead th {\n",
       "        text-align: right;\n",
       "    }\n",
       "</style>\n",
       "<table border=\"1\" class=\"dataframe\">\n",
       "  <thead>\n",
       "    <tr style=\"text-align: right;\">\n",
       "      <th></th>\n",
       "      <th>TrackId</th>\n",
       "      <th>Name</th>\n",
       "      <th>MediaTypeId</th>\n",
       "      <th>GenreId</th>\n",
       "      <th>Composer</th>\n",
       "      <th>Milliseconds</th>\n",
       "      <th>Bytes</th>\n",
       "      <th>UnitPrice</th>\n",
       "    </tr>\n",
       "  </thead>\n",
       "  <tbody>\n",
       "    <tr>\n",
       "      <th>0</th>\n",
       "      <td>1</td>\n",
       "      <td>For Those About To Rock (We Salute You)</td>\n",
       "      <td>1</td>\n",
       "      <td>1</td>\n",
       "      <td>Angus Young, Malcolm Young, Brian Johnson</td>\n",
       "      <td>343719</td>\n",
       "      <td>11170334</td>\n",
       "      <td>0.99</td>\n",
       "    </tr>\n",
       "    <tr>\n",
       "      <th>1</th>\n",
       "      <td>2</td>\n",
       "      <td>Balls to the Wall</td>\n",
       "      <td>2</td>\n",
       "      <td>1</td>\n",
       "      <td>NA</td>\n",
       "      <td>342562</td>\n",
       "      <td>5510424</td>\n",
       "      <td>0.99</td>\n",
       "    </tr>\n",
       "    <tr>\n",
       "      <th>2</th>\n",
       "      <td>3</td>\n",
       "      <td>Fast As a Shark</td>\n",
       "      <td>2</td>\n",
       "      <td>1</td>\n",
       "      <td>F. Baltes, S. Kaufman, U. Dirkscneider &amp; W. Ho...</td>\n",
       "      <td>230619</td>\n",
       "      <td>3990994</td>\n",
       "      <td>0.99</td>\n",
       "    </tr>\n",
       "    <tr>\n",
       "      <th>3</th>\n",
       "      <td>4</td>\n",
       "      <td>Restless and Wild</td>\n",
       "      <td>2</td>\n",
       "      <td>1</td>\n",
       "      <td>F. Baltes, R.A. Smith-Diesel, S. Kaufman, U. D...</td>\n",
       "      <td>252051</td>\n",
       "      <td>4331779</td>\n",
       "      <td>0.99</td>\n",
       "    </tr>\n",
       "    <tr>\n",
       "      <th>4</th>\n",
       "      <td>5</td>\n",
       "      <td>Princess of the Dawn</td>\n",
       "      <td>2</td>\n",
       "      <td>1</td>\n",
       "      <td>Deaffy &amp; R.A. Smith-Diesel</td>\n",
       "      <td>375418</td>\n",
       "      <td>6290521</td>\n",
       "      <td>0.99</td>\n",
       "    </tr>\n",
       "  </tbody>\n",
       "</table>\n",
       "</div>"
      ],
      "text/plain": [
       "   TrackId                                     Name  MediaTypeId  GenreId  \\\n",
       "0        1  For Those About To Rock (We Salute You)            1        1   \n",
       "1        2                        Balls to the Wall            2        1   \n",
       "2        3                          Fast As a Shark            2        1   \n",
       "3        4                        Restless and Wild            2        1   \n",
       "4        5                     Princess of the Dawn            2        1   \n",
       "\n",
       "                                            Composer  Milliseconds     Bytes  \\\n",
       "0          Angus Young, Malcolm Young, Brian Johnson        343719  11170334   \n",
       "1                                                 NA        342562   5510424   \n",
       "2  F. Baltes, S. Kaufman, U. Dirkscneider & W. Ho...        230619   3990994   \n",
       "3  F. Baltes, R.A. Smith-Diesel, S. Kaufman, U. D...        252051   4331779   \n",
       "4                         Deaffy & R.A. Smith-Diesel        375418   6290521   \n",
       "\n",
       "   UnitPrice  \n",
       "0       0.99  \n",
       "1       0.99  \n",
       "2       0.99  \n",
       "3       0.99  \n",
       "4       0.99  "
      ]
     },
     "execution_count": 27,
     "metadata": {},
     "output_type": "execute_result"
    }
   ],
   "source": [
    "df_tracks=pd.read_sql_query(\"\"\"SELECT TrackId,Name,MediaTypeID,\n",
    "GenreId,Composer,Milliseconds,Bytes,UnitPrice\n",
    "FROM tracks;\"\"\", con=engine.connect())\n",
    "df_tracks.head()"
   ]
  },
  {
   "cell_type": "markdown",
   "id": "7da4312c",
   "metadata": {},
   "source": [
    "### Tabla playlists"
   ]
  },
  {
   "cell_type": "code",
   "execution_count": 28,
   "id": "9cdf1d3d",
   "metadata": {},
   "outputs": [
    {
     "data": {
      "text/html": [
       "<div>\n",
       "<style scoped>\n",
       "    .dataframe tbody tr th:only-of-type {\n",
       "        vertical-align: middle;\n",
       "    }\n",
       "\n",
       "    .dataframe tbody tr th {\n",
       "        vertical-align: top;\n",
       "    }\n",
       "\n",
       "    .dataframe thead th {\n",
       "        text-align: right;\n",
       "    }\n",
       "</style>\n",
       "<table border=\"1\" class=\"dataframe\">\n",
       "  <thead>\n",
       "    <tr style=\"text-align: right;\">\n",
       "      <th></th>\n",
       "      <th>PlaylistId</th>\n",
       "      <th>Name</th>\n",
       "    </tr>\n",
       "  </thead>\n",
       "  <tbody>\n",
       "    <tr>\n",
       "      <th>0</th>\n",
       "      <td>1</td>\n",
       "      <td>Music</td>\n",
       "    </tr>\n",
       "    <tr>\n",
       "      <th>1</th>\n",
       "      <td>2</td>\n",
       "      <td>Movies</td>\n",
       "    </tr>\n",
       "    <tr>\n",
       "      <th>2</th>\n",
       "      <td>3</td>\n",
       "      <td>TV Shows</td>\n",
       "    </tr>\n",
       "    <tr>\n",
       "      <th>3</th>\n",
       "      <td>4</td>\n",
       "      <td>Audiobooks</td>\n",
       "    </tr>\n",
       "    <tr>\n",
       "      <th>4</th>\n",
       "      <td>5</td>\n",
       "      <td>90’s Music</td>\n",
       "    </tr>\n",
       "  </tbody>\n",
       "</table>\n",
       "</div>"
      ],
      "text/plain": [
       "   PlaylistId        Name\n",
       "0           1       Music\n",
       "1           2      Movies\n",
       "2           3    TV Shows\n",
       "3           4  Audiobooks\n",
       "4           5  90’s Music"
      ]
     },
     "execution_count": 28,
     "metadata": {},
     "output_type": "execute_result"
    }
   ],
   "source": [
    "df_playlists=pd.read_sql_query(\"\"\"SELECT PlaylistID, Name\n",
    "FROM playlists;\"\"\", con=engine.connect())\n",
    "df_playlists.head()"
   ]
  },
  {
   "cell_type": "markdown",
   "id": "9ecf3163",
   "metadata": {},
   "source": [
    "### Tabla location"
   ]
  },
  {
   "cell_type": "code",
   "execution_count": 29,
   "id": "d2ace9b5",
   "metadata": {},
   "outputs": [
    {
     "data": {
      "text/html": [
       "<div>\n",
       "<style scoped>\n",
       "    .dataframe tbody tr th:only-of-type {\n",
       "        vertical-align: middle;\n",
       "    }\n",
       "\n",
       "    .dataframe tbody tr th {\n",
       "        vertical-align: top;\n",
       "    }\n",
       "\n",
       "    .dataframe thead th {\n",
       "        text-align: right;\n",
       "    }\n",
       "</style>\n",
       "<table border=\"1\" class=\"dataframe\">\n",
       "  <thead>\n",
       "    <tr style=\"text-align: right;\">\n",
       "      <th></th>\n",
       "      <th>BillingAddress</th>\n",
       "      <th>BillingCity</th>\n",
       "      <th>BillingState</th>\n",
       "      <th>BillingCountry</th>\n",
       "      <th>BillingPostalCode</th>\n",
       "    </tr>\n",
       "  </thead>\n",
       "  <tbody>\n",
       "    <tr>\n",
       "      <th>0</th>\n",
       "      <td>Theodor-Heuss-Straße 34</td>\n",
       "      <td>Stuttgart</td>\n",
       "      <td>None</td>\n",
       "      <td>Germany</td>\n",
       "      <td>70174</td>\n",
       "    </tr>\n",
       "    <tr>\n",
       "      <th>1</th>\n",
       "      <td>Ullevålsveien 14</td>\n",
       "      <td>Oslo</td>\n",
       "      <td>None</td>\n",
       "      <td>Norway</td>\n",
       "      <td>0171</td>\n",
       "    </tr>\n",
       "    <tr>\n",
       "      <th>2</th>\n",
       "      <td>Grétrystraat 63</td>\n",
       "      <td>Brussels</td>\n",
       "      <td>None</td>\n",
       "      <td>Belgium</td>\n",
       "      <td>1000</td>\n",
       "    </tr>\n",
       "    <tr>\n",
       "      <th>3</th>\n",
       "      <td>8210 111 ST NW</td>\n",
       "      <td>Edmonton</td>\n",
       "      <td>AB</td>\n",
       "      <td>Canada</td>\n",
       "      <td>T6G 2C7</td>\n",
       "    </tr>\n",
       "    <tr>\n",
       "      <th>4</th>\n",
       "      <td>69 Salem Street</td>\n",
       "      <td>Boston</td>\n",
       "      <td>MA</td>\n",
       "      <td>USA</td>\n",
       "      <td>2113</td>\n",
       "    </tr>\n",
       "  </tbody>\n",
       "</table>\n",
       "</div>"
      ],
      "text/plain": [
       "            BillingAddress BillingCity BillingState BillingCountry  \\\n",
       "0  Theodor-Heuss-Straße 34   Stuttgart         None        Germany   \n",
       "1         Ullevålsveien 14        Oslo         None         Norway   \n",
       "2          Grétrystraat 63    Brussels         None        Belgium   \n",
       "3           8210 111 ST NW    Edmonton           AB         Canada   \n",
       "4          69 Salem Street      Boston           MA            USA   \n",
       "\n",
       "  BillingPostalCode  \n",
       "0             70174  \n",
       "1              0171  \n",
       "2              1000  \n",
       "3           T6G 2C7  \n",
       "4              2113  "
      ]
     },
     "execution_count": 29,
     "metadata": {},
     "output_type": "execute_result"
    }
   ],
   "source": [
    "df_location=pd.read_sql_query(\"\"\"SELECT BillingAddress, BillingCity, \n",
    "BillingState, BillingCountry, BillingPostalCode\n",
    "FROM invoices;\"\"\", con=engine.connect())\n",
    "df_location.head()"
   ]
  },
  {
   "cell_type": "markdown",
   "id": "8336ab6a",
   "metadata": {},
   "source": [
    "### Tabla time"
   ]
  },
  {
   "cell_type": "code",
   "execution_count": 31,
   "id": "b8f5a5a8",
   "metadata": {},
   "outputs": [
    {
     "data": {
      "text/html": [
       "<div>\n",
       "<style scoped>\n",
       "    .dataframe tbody tr th:only-of-type {\n",
       "        vertical-align: middle;\n",
       "    }\n",
       "\n",
       "    .dataframe tbody tr th {\n",
       "        vertical-align: top;\n",
       "    }\n",
       "\n",
       "    .dataframe thead th {\n",
       "        text-align: right;\n",
       "    }\n",
       "</style>\n",
       "<table border=\"1\" class=\"dataframe\">\n",
       "  <thead>\n",
       "    <tr style=\"text-align: right;\">\n",
       "      <th></th>\n",
       "      <th>Year</th>\n",
       "      <th>Quarter</th>\n",
       "      <th>Month</th>\n",
       "      <th>Week</th>\n",
       "      <th>Day</th>\n",
       "      <th>WeekDay</th>\n",
       "      <th>Month_Name</th>\n",
       "      <th>Day_Name</th>\n",
       "    </tr>\n",
       "  </thead>\n",
       "  <tbody>\n",
       "    <tr>\n",
       "      <th>0</th>\n",
       "      <td>2009</td>\n",
       "      <td>1</td>\n",
       "      <td>1</td>\n",
       "      <td>1</td>\n",
       "      <td>1</td>\n",
       "      <td>3</td>\n",
       "      <td>January</td>\n",
       "      <td>Thursday</td>\n",
       "    </tr>\n",
       "    <tr>\n",
       "      <th>1</th>\n",
       "      <td>2009</td>\n",
       "      <td>1</td>\n",
       "      <td>1</td>\n",
       "      <td>1</td>\n",
       "      <td>2</td>\n",
       "      <td>4</td>\n",
       "      <td>January</td>\n",
       "      <td>Friday</td>\n",
       "    </tr>\n",
       "    <tr>\n",
       "      <th>2</th>\n",
       "      <td>2009</td>\n",
       "      <td>1</td>\n",
       "      <td>1</td>\n",
       "      <td>1</td>\n",
       "      <td>3</td>\n",
       "      <td>5</td>\n",
       "      <td>January</td>\n",
       "      <td>Saturday</td>\n",
       "    </tr>\n",
       "    <tr>\n",
       "      <th>3</th>\n",
       "      <td>2009</td>\n",
       "      <td>1</td>\n",
       "      <td>1</td>\n",
       "      <td>1</td>\n",
       "      <td>4</td>\n",
       "      <td>6</td>\n",
       "      <td>January</td>\n",
       "      <td>Sunday</td>\n",
       "    </tr>\n",
       "    <tr>\n",
       "      <th>4</th>\n",
       "      <td>2009</td>\n",
       "      <td>1</td>\n",
       "      <td>1</td>\n",
       "      <td>2</td>\n",
       "      <td>5</td>\n",
       "      <td>0</td>\n",
       "      <td>January</td>\n",
       "      <td>Monday</td>\n",
       "    </tr>\n",
       "  </tbody>\n",
       "</table>\n",
       "</div>"
      ],
      "text/plain": [
       "   Year  Quarter  Month  Week  Day  WeekDay Month_Name  Day_Name\n",
       "0  2009        1      1     1    1        3    January  Thursday\n",
       "1  2009        1      1     1    2        4    January    Friday\n",
       "2  2009        1      1     1    3        5    January  Saturday\n",
       "3  2009        1      1     1    4        6    January    Sunday\n",
       "4  2009        1      1     2    5        0    January    Monday"
      ]
     },
     "execution_count": 31,
     "metadata": {},
     "output_type": "execute_result"
    }
   ],
   "source": [
    "from datetime import datetime, date, timedelta\n",
    "\n",
    "Date=pd.date_range('2009-01-01','2013-12-22',freq='D').to_series()\n",
    "date1=pd.to_datetime(Date)\n",
    "Year=date1.dt.year\n",
    "Quarter=date1.dt.quarter\n",
    "Month=date1.dt.month\n",
    "Week=date1.dt.isocalendar().week\n",
    "Day=date1.dt.day\n",
    "WeekDay=date1.dt.weekday\n",
    "Month_Name=date1.dt.month_name()\n",
    "Day_Name=date1.dt.day_name()\n",
    "\n",
    "DateconDate=pd.to_datetime(Date, format = '%d-%m-%Y')\n",
    "df_time=pd.DataFrame({'Year':list(Year), 'Quarter':list(Quarter), \n",
    "'Month':list(Month), 'Week':list(Week), 'Day':list(Day), \n",
    "'WeekDay':list(WeekDay), 'Month_Name':list(Month_Name), \n",
    "'Day_Name':list(Day_Name)})\n",
    "df_time.head()"
   ]
  },
  {
   "cell_type": "markdown",
   "id": "2ecbf5c8",
   "metadata": {
    "id": "2ecbf5c8"
   },
   "source": [
    "# Load"
   ]
  },
  {
   "cell_type": "markdown",
   "id": "45a0474b",
   "metadata": {},
   "source": [
    "## Funciones para la carga "
   ]
  },
  {
   "cell_type": "code",
   "execution_count": 32,
   "id": "3aad6d31",
   "metadata": {},
   "outputs": [],
   "source": [
    "def updateData(name_table,data_db,name_columns):\n",
    "\tprint(name_columns)\n",
    "\taux_values='?'\n",
    "\taux_data=[]\n",
    "\taux_columns=name_columns[0]\n",
    "\taux_data.append(list(data_db[name_columns[0]]))\n",
    "\tentities=[]\n",
    "\taux_entities=[]\n",
    "\tfor i in range(len(name_columns)-1):\n",
    "\t\taux_values+=',?'\n",
    "\t\taux_columns+=','+name_columns[i+1]\n",
    "\t\taux_data.append(list(data_db[name_columns[i+1]]))\n",
    "\tfor i in range(len(aux_data[0])):\n",
    "\t\t#aux_entities.append(i)\n",
    "\t\tfor j in range(len(aux_data)):\n",
    "\t\t\taux_entities.append(aux_data[j][i])\n",
    "\t\tentities.append(aux_entities)\n",
    "\t\taux_entities=[]\n",
    "\twith engineMM.connect() as con:\n",
    "\t\tfor i in entities:\n",
    "\t\t\tcon.execute('INSERT INTO '+name_table+'('+aux_columns+') VALUES('+aux_values+')', i)"
   ]
  },
  {
   "cell_type": "markdown",
   "id": "91a97cfa",
   "metadata": {},
   "source": [
    "### dim_albums"
   ]
  },
  {
   "cell_type": "code",
   "execution_count": 33,
   "id": "fa08175d",
   "metadata": {},
   "outputs": [
    {
     "name": "stdout",
     "output_type": "stream",
     "text": [
      "['AlbumId', 'Title']\n"
     ]
    }
   ],
   "source": [
    "updateData('dim_albums',df_albums,list(df_albums.columns.values))"
   ]
  },
  {
   "cell_type": "markdown",
   "id": "18587213",
   "metadata": {},
   "source": [
    "### dim_artists"
   ]
  },
  {
   "cell_type": "code",
   "execution_count": 34,
   "id": "e082426a",
   "metadata": {},
   "outputs": [
    {
     "name": "stdout",
     "output_type": "stream",
     "text": [
      "['ArtistId', 'Name']\n"
     ]
    }
   ],
   "source": [
    "updateData('dim_artists',df_artists,list(df_artists.columns.values))"
   ]
  },
  {
   "cell_type": "markdown",
   "id": "1dc99588",
   "metadata": {},
   "source": [
    "### dim_customers"
   ]
  },
  {
   "cell_type": "code",
   "execution_count": 35,
   "id": "6dd428a0",
   "metadata": {},
   "outputs": [
    {
     "name": "stdout",
     "output_type": "stream",
     "text": [
      "['CustomerId', 'FirstName', 'LastName', 'Company', 'Address', 'City', 'State', 'Country', 'PostalCode', 'Phone', 'Fax', 'Email', 'SupportRepId']\n"
     ]
    }
   ],
   "source": [
    "updateData('dim_customers',df_customers,list(df_customers.columns.values))"
   ]
  },
  {
   "cell_type": "markdown",
   "id": "14e9f5dd",
   "metadata": {},
   "source": [
    "### dim_employees"
   ]
  },
  {
   "cell_type": "code",
   "execution_count": 36,
   "id": "a2e61e14",
   "metadata": {},
   "outputs": [
    {
     "name": "stdout",
     "output_type": "stream",
     "text": [
      "['EmployeeId', 'LastName', 'FirstName', 'Title', 'ReportsTo', 'BirthDate', 'HireDate', 'Address', 'City', 'State', 'Country', 'PostalCode', 'Phone', 'Fax', 'Email']\n"
     ]
    }
   ],
   "source": [
    "updateData('dim_employees',df_employees,list(df_employees.columns.values))"
   ]
  },
  {
   "cell_type": "markdown",
   "id": "95d36f7f",
   "metadata": {},
   "source": [
    "### dim_genres"
   ]
  },
  {
   "cell_type": "code",
   "execution_count": 37,
   "id": "ae9cbd67",
   "metadata": {},
   "outputs": [
    {
     "name": "stdout",
     "output_type": "stream",
     "text": [
      "['GenreId', 'Name']\n"
     ]
    }
   ],
   "source": [
    "updateData('dim_genres',df_genres,list(df_genres.columns.values))"
   ]
  },
  {
   "cell_type": "markdown",
   "id": "3da510b2",
   "metadata": {},
   "source": [
    "### dim_invoices"
   ]
  },
  {
   "cell_type": "code",
   "execution_count": 38,
   "id": "6f59edf1",
   "metadata": {},
   "outputs": [
    {
     "name": "stdout",
     "output_type": "stream",
     "text": [
      "['InvoiceId', 'Total']\n"
     ]
    }
   ],
   "source": [
    "updateData('dim_invoices',df_invoices,list(df_invoices.columns.values))"
   ]
  },
  {
   "cell_type": "markdown",
   "id": "770ae4c6",
   "metadata": {},
   "source": [
    "### dim_media_types"
   ]
  },
  {
   "cell_type": "code",
   "execution_count": 39,
   "id": "f81bcb7e",
   "metadata": {},
   "outputs": [
    {
     "name": "stdout",
     "output_type": "stream",
     "text": [
      "['MediaTypeId', 'Name']\n"
     ]
    }
   ],
   "source": [
    "updateData('dim_media_types',df_mediatypes,list(df_mediatypes.columns.values))"
   ]
  },
  {
   "cell_type": "markdown",
   "id": "93d1d5c2",
   "metadata": {},
   "source": [
    "### dim_tracks"
   ]
  },
  {
   "cell_type": "code",
   "execution_count": 40,
   "id": "b84178e7",
   "metadata": {
    "scrolled": false
   },
   "outputs": [
    {
     "name": "stdout",
     "output_type": "stream",
     "text": [
      "['TrackId', 'Name', 'MediaTypeId', 'GenreId', 'Composer', 'Milliseconds', 'Bytes', 'UnitPrice']\n"
     ]
    }
   ],
   "source": [
    "updateData('dim_tracks',df_tracks,list(df_tracks.columns.values))"
   ]
  },
  {
   "cell_type": "markdown",
   "id": "93b7fe12",
   "metadata": {},
   "source": [
    "### dim_playlists"
   ]
  },
  {
   "cell_type": "code",
   "execution_count": 41,
   "id": "74a6e2a4",
   "metadata": {},
   "outputs": [
    {
     "name": "stdout",
     "output_type": "stream",
     "text": [
      "['PlaylistId', 'Name']\n"
     ]
    }
   ],
   "source": [
    "updateData('dim_playlists',df_playlists,list(df_playlists.columns.values))"
   ]
  },
  {
   "cell_type": "markdown",
   "id": "bcec6da7",
   "metadata": {},
   "source": [
    "### dim_location"
   ]
  },
  {
   "cell_type": "code",
   "execution_count": 42,
   "id": "837a94c6",
   "metadata": {},
   "outputs": [
    {
     "name": "stdout",
     "output_type": "stream",
     "text": [
      "['BillingAddress', 'BillingCity', 'BillingState', 'BillingCountry', 'BillingPostalCode']\n"
     ]
    }
   ],
   "source": [
    "updateData('dim_location',df_location,list(df_location.columns.values))"
   ]
  },
  {
   "cell_type": "markdown",
   "id": "efdd81bd",
   "metadata": {},
   "source": [
    "### dim_time"
   ]
  },
  {
   "cell_type": "code",
   "execution_count": 43,
   "id": "79d9a66d",
   "metadata": {},
   "outputs": [
    {
     "name": "stdout",
     "output_type": "stream",
     "text": [
      "['Year', 'Quarter', 'Month', 'Week', 'Day', 'WeekDay', 'Month_Name', 'Day_Name']\n"
     ]
    }
   ],
   "source": [
    "updateData('dim_time',df_time,list(df_time.columns.values))"
   ]
  },
  {
   "cell_type": "markdown",
   "id": "c27b25b3",
   "metadata": {},
   "source": [
    "# Tabla de Hechos fact_invoice_items"
   ]
  },
  {
   "cell_type": "code",
   "execution_count": 44,
   "id": "1c888d84",
   "metadata": {},
   "outputs": [
    {
     "data": {
      "text/html": [
       "<div>\n",
       "<style scoped>\n",
       "    .dataframe tbody tr th:only-of-type {\n",
       "        vertical-align: middle;\n",
       "    }\n",
       "\n",
       "    .dataframe tbody tr th {\n",
       "        vertical-align: top;\n",
       "    }\n",
       "\n",
       "    .dataframe thead th {\n",
       "        text-align: right;\n",
       "    }\n",
       "</style>\n",
       "<table border=\"1\" class=\"dataframe\">\n",
       "  <thead>\n",
       "    <tr style=\"text-align: right;\">\n",
       "      <th></th>\n",
       "      <th>Quantity</th>\n",
       "    </tr>\n",
       "  </thead>\n",
       "  <tbody>\n",
       "    <tr>\n",
       "      <th>0</th>\n",
       "      <td>1</td>\n",
       "    </tr>\n",
       "    <tr>\n",
       "      <th>1</th>\n",
       "      <td>1</td>\n",
       "    </tr>\n",
       "    <tr>\n",
       "      <th>2</th>\n",
       "      <td>1</td>\n",
       "    </tr>\n",
       "    <tr>\n",
       "      <th>3</th>\n",
       "      <td>1</td>\n",
       "    </tr>\n",
       "    <tr>\n",
       "      <th>4</th>\n",
       "      <td>1</td>\n",
       "    </tr>\n",
       "  </tbody>\n",
       "</table>\n",
       "</div>"
      ],
      "text/plain": [
       "   Quantity\n",
       "0         1\n",
       "1         1\n",
       "2         1\n",
       "3         1\n",
       "4         1"
      ]
     },
     "execution_count": 44,
     "metadata": {},
     "output_type": "execute_result"
    }
   ],
   "source": [
    "df_AuxInvoiceId=pd.read_sql_query(\"\"\"SELECT InvoiceId\n",
    "FROM invoice_items;\"\"\", con=engine.connect())\n",
    "df_AuxInvoiceId.head()\n",
    "\n",
    "df_CustInv=pd.read_sql_query(\"\"\"SELECT InvoiceId, CustomerId\n",
    "FROM invoices;\"\"\", con=engine.connect())\n",
    "\n",
    "aux=list(df_AuxInvoiceId['InvoiceId'])\n",
    "auxCustomer=[]\n",
    "for i in aux:\n",
    "    aux2=df_CustInv.index[df_CustInv['InvoiceId'] == i].tolist()\n",
    "    auxCustomer.append(df_CustInv['CustomerId'][aux2[0]])\n",
    "\n",
    "df_dim_time=pd.read_sql_query(\"\"\"SELECT TimeId\n",
    "FROM dim_time;\"\"\", con=engineMM.connect())\n",
    "auxTime=[]\n",
    "\n",
    "df_locationInv=pd.read_sql_query(\"\"\"SELECT InvoiceId, BillingAddress\n",
    "FROM invoices;\"\"\", con=engine.connect())\n",
    "aux=list(df_AuxInvoiceId['InvoiceId'])\n",
    "auxTime1=[]\n",
    "for i in aux:\n",
    "    aux22=df_locationInv.index[df_locationInv['InvoiceId'] == i].tolist()\n",
    "    auxTime1.append(df_locationInv['BillingAddress'][aux22[0]])\n",
    "df_dim_location=pd.read_sql_query(\"\"\"SELECT LocationId, BillingAddress\n",
    "FROM dim_location;\"\"\", con=engineMM.connect())\n",
    "auxLocation=[]\n",
    "for i in auxTime1:\n",
    "    aux22=df_dim_location.index[df_dim_location['BillingAddress'] == i].tolist()\n",
    "    auxLocation.append(df_dim_location['LocationId'][aux22[0]])\n",
    "\n",
    "df_AuxTrackId=pd.read_sql_query(\"\"\"SELECT TrackId\n",
    "FROM invoice_items;\"\"\", con=engine.connect())\n",
    "df_AuxTrackId.head()\n",
    "\n",
    "df_tracksP=pd.read_sql_query(\"\"\"SELECT TrackId, AlbumId\n",
    "FROM tracks;\"\"\", con=engine.connect())\n",
    "df_album=pd.read_sql_query(\"\"\"SELECT AlbumId, Title, ArtistId\n",
    "FROM albums;\"\"\", con=engine.connect())\n",
    "aux=list(df_AuxTrackId['TrackId'])\n",
    "auxAlbum=[]\n",
    "for i in aux:\n",
    "    aux22=df_tracksP.index[df_tracksP['TrackId'] == i].tolist()\n",
    "    auxAlbum.append(df_tracksP['AlbumId'][aux22[0]])\n",
    "\n",
    "\n",
    "df_tracksPlay=pd.read_sql_query(\"\"\"SELECT PlaylistId, TrackId\n",
    "FROM playlist_track;\"\"\", con=engine.connect())\n",
    "aux=list(df_AuxTrackId['TrackId'])\n",
    "auxPlaylist=[]\n",
    "for i in aux:\n",
    "    aux22=df_tracksPlay.index[df_tracksPlay['TrackId'] == i].tolist()\n",
    "    auxPlaylist.append(df_tracksPlay['PlaylistId'][aux22[0]])    \n",
    "\n",
    "    \n",
    "    df_tracksPlay=pd.read_sql_query(\"\"\"SELECT PlaylistId, TrackId\n",
    "FROM playlist_track;\"\"\", con=engine.connect())\n",
    "aux=list(df_AuxTrackId['TrackId'])\n",
    "auxArtist=[]\n",
    "for i in auxAlbum:\n",
    "    aux22=df_album.index[df_album['AlbumId'] == i].tolist()\n",
    "    auxArtist.append(df_album['ArtistId'][aux22[0]])\n",
    "\n",
    "df_Quantity=pd.read_sql_query(\"\"\"SELECT Quantity\n",
    "FROM invoice_items;\"\"\", con=engine.connect())\n",
    "df_Quantity.head()"
   ]
  },
  {
   "cell_type": "markdown",
   "id": "85e0efe4",
   "metadata": {},
   "source": [
    "# fact_invoice_items"
   ]
  },
  {
   "cell_type": "code",
   "execution_count": 45,
   "id": "0028ce51",
   "metadata": {},
   "outputs": [
    {
     "name": "stdout",
     "output_type": "stream",
     "text": [
      "['InvoiceID', 'CustomerID', 'TracksID', 'TimeID', 'LocationID', 'PlaylistID', 'ArtistID', 'AlbumID', 'Quantity']\n"
     ]
    }
   ],
   "source": [
    "columnas=['InvoiceID','CustomerID','TracksID','TimeID','LocationID','PlaylistID','ArtistID','AlbumID','Quantity']\n",
    "df = pd.DataFrame(list(zip(list(df_AuxInvoiceId['InvoiceId']),auxCustomer,auxLocation,auxTime,\n",
    "                          list(df_AuxTrackId['TrackId']),auxPlaylist,auxArtist,auxAlbum,\n",
    "                           list(df_Quantity['Quantity']))), columns = columnas)\n",
    "updateData('fact_invoice_items',df,list(df.columns.values))"
   ]
  }
 ],
 "metadata": {
  "colab": {
   "collapsed_sections": [],
   "name": "[NRC_8903]_JeffersonGuamán_ExamenParcialParteII.ipynb",
   "provenance": []
  },
  "kernelspec": {
   "display_name": "Python 3 (ipykernel)",
   "language": "python",
   "name": "python3"
  },
  "language_info": {
   "codemirror_mode": {
    "name": "ipython",
    "version": 3
   },
   "file_extension": ".py",
   "mimetype": "text/x-python",
   "name": "python",
   "nbconvert_exporter": "python",
   "pygments_lexer": "ipython3",
   "version": "3.10.0"
  }
 },
 "nbformat": 4,
 "nbformat_minor": 5
}
